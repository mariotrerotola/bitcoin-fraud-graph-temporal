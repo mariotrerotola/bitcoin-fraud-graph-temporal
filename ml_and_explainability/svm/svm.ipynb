{
 "cells": [
  {
   "cell_type": "code",
   "execution_count": 27,
   "id": "0b798fc8",
   "metadata": {},
   "outputs": [
    {
     "data": {
      "text/plain": [
       "'\\nWallet Model Training – **Support\\xa0Vector\\xa0Machine**\\n================================================\\n\\nNotebook gemello di *Wallet Model Training & SHAP Explainability*, ma con un\\nclassificatore **SVM** al posto della Random\\xa0Forest.\\n\\nPipeline completa:\\n\\n1. Carica il dataset pre‑processato.\\n2. Preprocessing numerico/categorico identico all’altro notebook.\\n3. Modello `SVC(probability=True)` con ricerca iper‑parametri (C, kernel, gamma).\\n4. Valutazione con report e confusion matrix.\\n5. SHAP beeswarm globale (generic `Explainer`).\\n6. CIU locale (opzionale).\\n7. Salvataggio pipeline e report.\\n'"
      ]
     },
     "execution_count": 27,
     "metadata": {},
     "output_type": "execute_result"
    }
   ],
   "source": [
    "\"\"\"\n",
    "Wallet Model Training – **Support Vector Machine**\n",
    "================================================\n",
    "\n",
    "Notebook gemello di *Wallet Model Training & SHAP Explainability*, ma con un\n",
    "classificatore **SVM** al posto della Random Forest.\n",
    "\n",
    "Pipeline completa:\n",
    "\n",
    "1. Carica il dataset pre‑processato.\n",
    "2. Preprocessing numerico/categorico identico all’altro notebook.\n",
    "3. Modello `SVC(probability=True)` con ricerca iper‑parametri (C, kernel, gamma).\n",
    "4. Valutazione con report e confusion matrix.\n",
    "5. SHAP beeswarm globale (generic `Explainer`).\n",
    "6. CIU locale (opzionale).\n",
    "7. Salvataggio pipeline e report.\n",
    "\"\"\"\n"
   ]
  },
  {
   "cell_type": "code",
   "execution_count": 28,
   "id": "b418b60c",
   "metadata": {},
   "outputs": [],
   "source": [
    "# ----------------------------------------------------------------------\n",
    "# Select the use case to process\n",
    "# case_1.csv: CHAINABUSE fraud transactions with unknown transactions\n",
    "# case_2.csv: ELLIPTIC++ fraud transactions with ELLIPTIC++ licit transactions\n",
    "# case_3.csv: CHAINABUSE fraud transactions with ELLIPTIC++ licit transactions\n",
    "# ----------------------------------------------------------------------\n",
    "\n",
    "USE_CASE = \"case_3.csv\""
   ]
  },
  {
   "cell_type": "code",
   "execution_count": 29,
   "id": "4efce2b0",
   "metadata": {},
   "outputs": [
    {
     "name": "stdout",
     "output_type": "stream",
     "text": [
      "📄 Dataset: ../../data/processed_data/case_3.csv\n",
      "📂 Model dir: ../../data/processed_data/models\n",
      "\n"
     ]
    }
   ],
   "source": [
    "# ----------------------------------------------------------------------\n",
    "# Configuration – edit paths or set env-vars before starting Jupyter\n",
    "# ----------------------------------------------------------------------\n",
    "from __future__ import annotations\n",
    "\n",
    "import os\n",
    "from pathlib import Path\n",
    "import warnings\n",
    "\n",
    "DATASET_PATH = Path(os.getenv(\n",
    "    \"DATASET_PATH\",\n",
    "    f\"../../data/processed_data/{USE_CASE}\",\n",
    "    \n",
    "))\n",
    "MODEL_DIR = Path(os.getenv(\"MODEL_DIR\", DATASET_PATH.parent / \"models\"))\n",
    "MODEL_DIR.mkdir(parents=True, exist_ok=True)\n",
    "\n",
    "REPORT_FILE = MODEL_DIR / \"classification_report.txt\"\n",
    "MODEL_FILE  = MODEL_DIR / \"rf_pipeline.joblib\"\n",
    "\n",
    "print(f\"📄 Dataset: {DATASET_PATH}\\n📂 Model dir: {MODEL_DIR}\\n\")"
   ]
  },
  {
   "cell_type": "code",
   "execution_count": 30,
   "id": "ee7fe62f",
   "metadata": {},
   "outputs": [],
   "source": [
    "# ----------------------------------------------------------------------\n",
    "# Imports – ML & explainability stack\n",
    "# ----------------------------------------------------------------------\n",
    "import logging\n",
    "import joblib\n",
    "\n",
    "import numpy as np\n",
    "import pandas as pd\n",
    "import matplotlib.pyplot as plt\n",
    "import seaborn as sns\n",
    "\n",
    "from sklearn.model_selection import train_test_split, GridSearchCV\n",
    "from sklearn.compose import ColumnTransformer\n",
    "from sklearn.preprocessing import StandardScaler, OneHotEncoder, LabelEncoder\n",
    "from sklearn.impute import SimpleImputer\n",
    "from sklearn.pipeline import Pipeline\n",
    "from sklearn.svm import SVC\n",
    "from sklearn.metrics import classification_report, confusion_matrix\n",
    "\n",
    "import shap           # generic Explainer\n",
    "import ciu\n",
    "from IPython.display import display\n",
    "\n",
    "warnings.filterwarnings(\"ignore\", category=FutureWarning)\n",
    "logging.basicConfig(level=logging.INFO, format=\"%(asctime)s – %(levelname)s – %(message)s\")\n",
    "logger = logging.getLogger(__name__)"
   ]
  },
  {
   "cell_type": "code",
   "execution_count": 31,
   "id": "ce687312",
   "metadata": {},
   "outputs": [
    {
     "name": "stderr",
     "output_type": "stream",
     "text": [
      "2025-06-03 17:10:42,418 – INFO – Loading dataset…\n",
      "2025-06-03 17:10:42,449 – INFO – Dataset shape: (13495, 22)\n"
     ]
    }
   ],
   "source": [
    "# ----------------------------------------------------------------------\n",
    "# Load dataset\n",
    "# ----------------------------------------------------------------------\n",
    "logger.info(\"Loading dataset…\")\n",
    "df = pd.read_csv(DATASET_PATH)\n",
    "logger.info(f\"Dataset shape: {df.shape}\")\n",
    "\n",
    "X = df.drop(columns=\"class\")\n",
    "y = df[\"class\"]"
   ]
  },
  {
   "cell_type": "code",
   "execution_count": 32,
   "id": "bf775847",
   "metadata": {},
   "outputs": [
    {
     "name": "stderr",
     "output_type": "stream",
     "text": [
      "2025-06-03 17:10:42,456 – INFO – Numeric      : 21\n",
      "2025-06-03 17:10:42,456 – INFO – Categorical : 0\n"
     ]
    }
   ],
   "source": [
    "# ----------------------------------------------------------------------\n",
    "# Identify numeric & categorical columns\n",
    "# ----------------------------------------------------------------------\n",
    "numeric_features     = X.select_dtypes(include=[\"int64\", \"float64\"]).columns.tolist()\n",
    "categorical_features = X.select_dtypes(include=[\"object\", \"category\"]).columns.tolist()\n",
    "logger.info(f\"Numeric      : {len(numeric_features)}\")\n",
    "logger.info(f\"Categorical : {len(categorical_features)}\")\n"
   ]
  },
  {
   "cell_type": "code",
   "execution_count": 33,
   "id": "e3b5d6f0",
   "metadata": {},
   "outputs": [],
   "source": [
    "# ----------------------------------------------------------------------\n",
    "# Preprocessing pipelines\n",
    "# ----------------------------------------------------------------------\n",
    "numeric_tf = Pipeline([\n",
    "    (\"imputer\", SimpleImputer(strategy=\"median\")),\n",
    "    (\"scaler\", StandardScaler()),\n",
    "])\n",
    "\n",
    "oh_kwargs = {\"handle_unknown\": \"ignore\"}\n",
    "if \"sparse_output\" in OneHotEncoder.__init__.__code__.co_varnames:\n",
    "    oh_kwargs[\"sparse_output\"] = False\n",
    "else:\n",
    "    oh_kwargs[\"sparse\"] = False\n",
    "\n",
    "categorical_tf = Pipeline([\n",
    "    (\"imputer\", SimpleImputer(strategy=\"constant\", fill_value=\"missing\")),\n",
    "    (\"onehot\", OneHotEncoder(**oh_kwargs)),\n",
    "])\n",
    "\n",
    "preprocessor = ColumnTransformer([\n",
    "    (\"num\", numeric_tf, numeric_features),\n",
    "    (\"cat\", categorical_tf, categorical_features),\n",
    "])"
   ]
  },
  {
   "cell_type": "code",
   "execution_count": 34,
   "id": "9d3f2f45",
   "metadata": {},
   "outputs": [],
   "source": [
    "# ----------------------------------------------------------------------\n",
    "# Model & pipeline\n",
    "# ----------------------------------------------------------------------\n",
    "svm = SVC(probability=True, class_weight=\"balanced\", random_state=42)\n",
    "pipe = Pipeline([\n",
    "    (\"preprocessor\", preprocessor),\n",
    "    (\"classifier\", svm),\n",
    "])\n",
    "\n",
    "param_grid = {\n",
    "    \"classifier__kernel\": [\"linear\", \"rbf\"],\n",
    "    \"classifier__C\"     : [0.1, 1, 10],\n",
    "    \"classifier__gamma\" : [\"scale\", \"auto\"],  # solo per RBF (ignorato da linear)\n",
    "}"
   ]
  },
  {
   "cell_type": "code",
   "execution_count": 35,
   "id": "cad45a53",
   "metadata": {},
   "outputs": [
    {
     "name": "stderr",
     "output_type": "stream",
     "text": [
      "2025-06-03 17:10:42,468 – INFO – Splitting train/test…\n",
      "2025-06-03 17:10:42,471 – INFO – GridSearchCV (SVM) in corso…\n"
     ]
    },
    {
     "name": "stdout",
     "output_type": "stream",
     "text": [
      "Fitting 5 folds for each of 12 candidates, totalling 60 fits\n",
      "[CV] END classifier__C=0.1, classifier__gamma=scale, classifier__kernel=linear; total time=   4.5s\n",
      "[CV] END classifier__C=0.1, classifier__gamma=scale, classifier__kernel=linear; total time=   4.6s\n",
      "[CV] END classifier__C=0.1, classifier__gamma=auto, classifier__kernel=linear; total time=   4.7s\n",
      "[CV] END classifier__C=0.1, classifier__gamma=scale, classifier__kernel=linear; total time=   4.7s\n",
      "[CV] END classifier__C=0.1, classifier__gamma=auto, classifier__kernel=linear; total time=   4.8s\n",
      "[CV] END classifier__C=0.1, classifier__gamma=auto, classifier__kernel=linear; total time=   4.8s\n",
      "[CV] END classifier__C=0.1, classifier__gamma=scale, classifier__kernel=linear; total time=   4.8s\n",
      "[CV] END classifier__C=0.1, classifier__gamma=auto, classifier__kernel=linear; total time=   4.8s\n",
      "[CV] END classifier__C=0.1, classifier__gamma=auto, classifier__kernel=linear; total time=   4.9s\n",
      "[CV] END classifier__C=0.1, classifier__gamma=scale, classifier__kernel=linear; total time=   5.2s\n",
      "[CV] END classifier__C=0.1, classifier__gamma=scale, classifier__kernel=rbf; total time=   7.2s\n",
      "[CV] END classifier__C=0.1, classifier__gamma=scale, classifier__kernel=rbf; total time=   7.5s\n",
      "[CV] END classifier__C=0.1, classifier__gamma=scale, classifier__kernel=rbf; total time=   7.6s\n",
      "[CV] END classifier__C=0.1, classifier__gamma=scale, classifier__kernel=rbf; total time=   7.7s\n",
      "[CV] END classifier__C=0.1, classifier__gamma=scale, classifier__kernel=rbf; total time=   7.8s\n",
      "[CV] END classifier__C=0.1, classifier__gamma=auto, classifier__kernel=rbf; total time=   7.8s\n",
      "[CV] END classifier__C=1, classifier__gamma=scale, classifier__kernel=linear; total time=   5.1s\n",
      "[CV] END classifier__C=1, classifier__gamma=scale, classifier__kernel=linear; total time=   5.3s\n",
      "[CV] END classifier__C=1, classifier__gamma=scale, classifier__kernel=linear; total time=   5.4s\n",
      "[CV] END classifier__C=1, classifier__gamma=scale, classifier__kernel=linear; total time=   5.5s\n",
      "[CV] END classifier__C=1, classifier__gamma=scale, classifier__kernel=linear; total time=   5.6s\n",
      "[CV] END classifier__C=0.1, classifier__gamma=auto, classifier__kernel=rbf; total time=   5.7s\n",
      "[CV] END classifier__C=0.1, classifier__gamma=auto, classifier__kernel=rbf; total time=   5.7s\n",
      "[CV] END classifier__C=0.1, classifier__gamma=auto, classifier__kernel=rbf; total time=   5.9s\n",
      "[CV] END classifier__C=1, classifier__gamma=scale, classifier__kernel=rbf; total time=   7.4s\n",
      "[CV] END classifier__C=0.1, classifier__gamma=auto, classifier__kernel=rbf; total time=   8.2s\n",
      "[CV] END classifier__C=1, classifier__gamma=scale, classifier__kernel=rbf; total time=   6.7s\n",
      "[CV] END classifier__C=1, classifier__gamma=scale, classifier__kernel=rbf; total time=   6.9s\n",
      "[CV] END classifier__C=1, classifier__gamma=scale, classifier__kernel=rbf; total time=   6.7s\n",
      "[CV] END classifier__C=1, classifier__gamma=scale, classifier__kernel=rbf; total time=   7.3s\n",
      "[CV] END classifier__C=1, classifier__gamma=auto, classifier__kernel=linear; total time=   7.1s\n",
      "[CV] END classifier__C=1, classifier__gamma=auto, classifier__kernel=rbf; total time=   4.9s\n",
      "[CV] END classifier__C=1, classifier__gamma=auto, classifier__kernel=linear; total time=   7.5s\n",
      "[CV] END classifier__C=1, classifier__gamma=auto, classifier__kernel=linear; total time=   5.2s\n",
      "[CV] END classifier__C=1, classifier__gamma=auto, classifier__kernel=linear; total time=   5.1s\n",
      "[CV] END classifier__C=1, classifier__gamma=auto, classifier__kernel=rbf; total time=   5.0s\n",
      "[CV] END classifier__C=1, classifier__gamma=auto, classifier__kernel=linear; total time=   5.5s\n",
      "[CV] END classifier__C=1, classifier__gamma=auto, classifier__kernel=rbf; total time=   6.4s\n",
      "[CV] END classifier__C=1, classifier__gamma=auto, classifier__kernel=rbf; total time=   6.5s\n",
      "[CV] END classifier__C=1, classifier__gamma=auto, classifier__kernel=rbf; total time=   6.6s\n",
      "[CV] END classifier__C=10, classifier__gamma=scale, classifier__kernel=rbf; total time=   4.6s\n",
      "[CV] END classifier__C=10, classifier__gamma=scale, classifier__kernel=rbf; total time=   4.8s\n",
      "[CV] END classifier__C=10, classifier__gamma=scale, classifier__kernel=rbf; total time=   6.2s\n",
      "[CV] END classifier__C=10, classifier__gamma=scale, classifier__kernel=rbf; total time=   6.4s\n",
      "[CV] END classifier__C=10, classifier__gamma=scale, classifier__kernel=rbf; total time=   6.3s\n",
      "[CV] END classifier__C=10, classifier__gamma=auto, classifier__kernel=rbf; total time=   6.3s\n",
      "[CV] END classifier__C=10, classifier__gamma=auto, classifier__kernel=rbf; total time=   5.9s\n",
      "[CV] END classifier__C=10, classifier__gamma=auto, classifier__kernel=rbf; total time=   6.1s\n",
      "[CV] END classifier__C=10, classifier__gamma=auto, classifier__kernel=rbf; total time=   5.7s\n",
      "[CV] END classifier__C=10, classifier__gamma=auto, classifier__kernel=rbf; total time=   5.3s\n",
      "[CV] END classifier__C=10, classifier__gamma=scale, classifier__kernel=linear; total time=  14.8s\n",
      "[CV] END classifier__C=10, classifier__gamma=scale, classifier__kernel=linear; total time=  15.6s\n",
      "[CV] END classifier__C=10, classifier__gamma=auto, classifier__kernel=linear; total time=  12.8s\n",
      "[CV] END classifier__C=10, classifier__gamma=auto, classifier__kernel=linear; total time=  12.8s\n",
      "[CV] END classifier__C=10, classifier__gamma=scale, classifier__kernel=linear; total time=  14.5s\n",
      "[CV] END classifier__C=10, classifier__gamma=auto, classifier__kernel=linear; total time=  14.1s\n",
      "[CV] END classifier__C=10, classifier__gamma=scale, classifier__kernel=linear; total time=  15.3s\n",
      "[CV] END classifier__C=10, classifier__gamma=scale, classifier__kernel=linear; total time=  15.5s\n",
      "[CV] END classifier__C=10, classifier__gamma=auto, classifier__kernel=linear; total time=  13.5s\n",
      "[CV] END classifier__C=10, classifier__gamma=auto, classifier__kernel=linear; total time=  14.6s\n"
     ]
    },
    {
     "name": "stderr",
     "output_type": "stream",
     "text": [
      "2025-06-03 17:11:22,070 – INFO – Best params: {'classifier__C': 10, 'classifier__gamma': 'scale', 'classifier__kernel': 'rbf'}\n"
     ]
    }
   ],
   "source": [
    "# ----------------------------------------------------------------------\n",
    "# Train/test split & GridSearch\n",
    "# ----------------------------------------------------------------------\n",
    "le = LabelEncoder()\n",
    "y_enc = le.fit_transform(y)\n",
    "\n",
    "logger.info(\"Splitting train/test…\")\n",
    "X_train, X_test, y_train, y_test = train_test_split(\n",
    "    X, y_enc, test_size=0.2, stratify=y_enc, random_state=42\n",
    ")\n",
    "\n",
    "logger.info(\"GridSearchCV (SVM) in corso…\")\n",
    "gs = GridSearchCV(pipe, param_grid, cv=5, scoring=\"accuracy\", n_jobs=-1, verbose=2)\n",
    "gs.fit(X_train, y_train)\n",
    "logger.info(f\"Best params: {gs.best_params_}\")\n",
    "\n",
    "best_model = gs.best_estimator_"
   ]
  },
  {
   "cell_type": "code",
   "execution_count": 36,
   "id": "44dca8c1",
   "metadata": {},
   "outputs": [
    {
     "name": "stderr",
     "output_type": "stream",
     "text": [
      "2025-06-03 17:11:22,420 – INFO – Classification report saved → ../../data/processed_data/models/classification_report.txt\n"
     ]
    },
    {
     "name": "stdout",
     "output_type": "stream",
     "text": [
      "              precision    recall  f1-score   support\n",
      "\n",
      "       fraud       0.83      0.80      0.81      1269\n",
      "       licit       0.83      0.85      0.84      1430\n",
      "\n",
      "    accuracy                           0.83      2699\n",
      "   macro avg       0.83      0.83      0.83      2699\n",
      "weighted avg       0.83      0.83      0.83      2699\n",
      "\n"
     ]
    },
    {
     "data": {
      "image/png": "[encoded data removed]",
      "text/plain": [
       "<Figure size 600x500 with 2 Axes>"
      ]
     },
     "metadata": {},
     "output_type": "display_data"
    }
   ],
   "source": [
    "# ----------------------------------------------------------------------\n",
    "# Evaluation\n",
    "# ----------------------------------------------------------------------\n",
    "y_pred  = best_model.predict(X_test)\n",
    "report  = classification_report(y_test, y_pred, target_names=le.classes_)\n",
    "cm      = confusion_matrix(y_test, y_pred)\n",
    "\n",
    "print(report)\n",
    "REPORT_FILE.write_text(report)\n",
    "logger.info(f\"Classification report saved → {REPORT_FILE}\")\n",
    "\n",
    "plt.figure(figsize=(6, 5))\n",
    "sns.heatmap(cm, annot=True, fmt=\"d\", cmap=\"Purples\", xticklabels=le.classes_, yticklabels=le.classes_)\n",
    "plt.title(\"Confusion Matrix – SVM\")\n",
    "plt.xlabel(\"Predicted\")\n",
    "plt.ylabel(\"Actual\")\n",
    "plt.tight_layout()\n",
    "plt.show()"
   ]
  },
  {
   "cell_type": "code",
   "execution_count": 37,
   "id": "07ea9c63",
   "metadata": {},
   "outputs": [
    {
     "name": "stderr",
     "output_type": "stream",
     "text": [
      "2025-06-03 17:11:22,500 – INFO – SVM pipeline saved → ../../data/processed_data/models/rf_pipeline.joblib\n"
     ]
    }
   ],
   "source": [
    "# ----------------------------------------------------------------------\n",
    "# Persist pipeline\n",
    "# ----------------------------------------------------------------------\n",
    "joblib.dump(best_model, MODEL_FILE)\n",
    "logger.info(f\"SVM pipeline saved → {MODEL_FILE}\")"
   ]
  }
 ],
 "metadata": {
  "kernelspec": {
   "display_name": "dexire",
   "language": "python",
   "name": "python3"
  },
  "language_info": {
   "codemirror_mode": {
    "name": "ipython",
    "version": 3
   },
   "file_extension": ".py",
   "mimetype": "text/x-python",
   "name": "python",
   "nbconvert_exporter": "python",
   "pygments_lexer": "ipython3",
   "version": "3.10.16"
  }
 },
 "nbformat": 4,
 "nbformat_minor": 5
}
